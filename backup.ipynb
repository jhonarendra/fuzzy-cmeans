{
 "cells": [
  {
   "cell_type": "code",
   "execution_count": 51,
   "metadata": {},
   "outputs": [],
   "source": [
    "import math"
   ]
  },
  {
   "cell_type": "code",
   "execution_count": 52,
   "metadata": {},
   "outputs": [],
   "source": [
    "data = [[10, 15],\n",
    "       [5, 7],\n",
    "       [6, 10],\n",
    "       [20, 9],\n",
    "       [10, 8]]\n",
    "\n",
    "cluster = [[0.27, 0.38, 0.33],\n",
    "          [0.18, 0.36, 0.45],\n",
    "          [0.50, 0.16, 0.33],\n",
    "          [0.60, 0.10, 0.30],\n",
    "          [0.06, 0.37, 0.56]]\n",
    "\n",
    "w = 2.0\n",
    "\n",
    "maxIter = 10\n",
    "\n",
    "errorRate = 0.0001"
   ]
  },
  {
   "cell_type": "code",
   "execution_count": 71,
   "metadata": {},
   "outputs": [
    {
     "name": "stdout",
     "output_type": "stream",
     "text": [
      "[[0.0729, 0.1444, 0.10890000000000001], [0.0324, 0.1296, 0.2025], [0.25, 0.0256, 0.10890000000000001], [0.36, 0.010000000000000002, 0.09], [0.0036, 0.1369, 0.31360000000000005]]\n",
      "[[0.7290000000000001, 1.444, 1.0890000000000002], [0.16199999999999998, 0.6479999999999999, 1.0125000000000002], [1.5, 0.15360000000000001, 0.6534000000000001], [7.199999999999999, 0.20000000000000004, 1.7999999999999998], [0.036, 1.369, 3.1360000000000006]]\n",
      "[[1.0935000000000001, 2.166, 1.6335000000000002], [0.2268, 0.9072, 1.4175], [2.5, 0.256, 1.0890000000000002], [3.2399999999999998, 0.09000000000000002, 0.8099999999999999], [0.0288, 1.0952, 2.5088000000000004]]\n"
     ]
    }
   ],
   "source": [
    "clusterW = [[0,0,0],[0,0,0],[0,0,0],[0,0,0],[0,0,0]]\n",
    "clusterWX1 = [[0,0,0],[0,0,0],[0,0,0],[0,0,0],[0,0,0]]\n",
    "clusterWX2 = [[0,0,0],[0,0,0],[0,0,0],[0,0,0],[0,0,0]]\n",
    "for i in range(len(cluster)):\n",
    "    for j in range(len(cluster[i])):\n",
    "        clusterW[i][j] = cluster[i][j]**w\n",
    "        clusterWX1[i][j] = clusterW[i][j]*data[i][0]\n",
    "        clusterWX2[i][j] = clusterW[i][j]*data[i][1]\n",
    "\n",
    "pusatCluster = [[0,0],[0,0],[0,0],[0,0],[0,0]]\n",
    "\n",
    "print(clusterW)\n",
    "print(clusterWX1)\n",
    "print(clusterWX2)"
   ]
  },
  {
   "cell_type": "code",
   "execution_count": 72,
   "metadata": {},
   "outputs": [
    {
     "name": "stdout",
     "output_type": "stream",
     "text": [
      "[0.7189000000000001, 0.4465, 0.8239000000000001]\n",
      "[9.626999999999999, 3.8145999999999995, 7.690900000000001]\n",
      "[7.0891, 4.5144, 7.4588]\n"
     ]
    }
   ],
   "source": [
    "sumClusterW = [0,0,0]\n",
    "sumClusterWX1 = [0,0,0]\n",
    "sumClusterWX2 = [0,0,0]\n",
    "\n",
    "for i in range(len(cluster)):\n",
    "    sumClusterW[0] = sumClusterW[0] + clusterW[i][0]\n",
    "    sumClusterW[1] = sumClusterW[1] + clusterW[i][1]\n",
    "    sumClusterW[2] = sumClusterW[2] + clusterW[i][2]\n",
    "    \n",
    "    sumClusterWX1[0] = sumClusterWX1[0] + clusterWX1[i][0]\n",
    "    sumClusterWX1[1] = sumClusterWX1[1] + clusterWX1[i][1]\n",
    "    sumClusterWX1[2] = sumClusterWX1[2] + clusterWX1[i][2]\n",
    "    \n",
    "    sumClusterWX2[0] = sumClusterWX2[0] + clusterWX2[i][0]\n",
    "    sumClusterWX2[1] = sumClusterWX2[1] + clusterWX2[i][1]\n",
    "    sumClusterWX2[2] = sumClusterWX2[2] + clusterWX2[i][2]\n",
    "    \n",
    "print(sumClusterW)\n",
    "print(sumClusterWX1)\n",
    "print(sumClusterWX2)"
   ]
  },
  {
   "cell_type": "code",
   "execution_count": 73,
   "metadata": {},
   "outputs": [
    {
     "name": "stdout",
     "output_type": "stream",
     "text": [
      "[[13.391292252051743, 9.861037696480734], [8.543337066069428, 10.11063829787234], [9.334749362786747, 9.053040417526399]]\n"
     ]
    }
   ],
   "source": [
    "pusatCluster = [[0,0],[0,0],[0,0]]\n",
    "\n",
    "for i in range(len(sumClusterW)):\n",
    "    pusatCluster[i][0] = sumClusterWX1[i]/sumClusterW[i]\n",
    "    pusatCluster[i][1] = sumClusterWX2[i]/sumClusterW[i]\n",
    "print(pusatCluster)"
   ]
  },
  {
   "cell_type": "code",
   "execution_count": 74,
   "metadata": {},
   "outputs": [
    {
     "name": "stdout",
     "output_type": "stream",
     "text": [
      "[[[11.500863138826183, 26.40893355699204], [70.41378565934362, 8.185536700683786], [54.63120115524013, 0.0193105217993806], [43.67501809779132, 0.7413859147608487], [11.500863138826183, 3.4634613077223166]], [[2.121866903087221, 23.90585785423269], [12.555237563781505, 9.676070620190128], [6.4685634316426475, 0.012240832956088616], [131.25512558169865, 1.2335174287007684], [2.121866903087221, 4.454794024445448]], [[0.44255841031263937, 35.366328275574595], [18.790052038180107, 4.2149749559969685], [11.120553312606614, 0.8967324508385776], [113.7475711545777, 0.0028132858913746854], [0.44255841031263937, 1.1088941209441718]]]\n",
      "[[[0.8384129228204288, 1.92521125630472], [2.281406655362733, 0.26521138910215464], [13.657800288810032, 0.00482763044984515], [15.723006515204876, 0.2668989293139055], [0.041403107299774256, 0.01246846070780034]], [[0.3063975808057947, 3.4520058741512005], [1.627158788266083, 1.2540187523766404], [0.1655952238500518, 0.00031336532367586857], [1.3125512558169867, 0.012335174287007686], [0.2904835790326405, 0.6098613019465818]], [[0.04819461088304643, 3.851393149210074], [3.804985537731472, 0.8535324285893862], [1.2110282557428604, 0.0976541638963211], [10.237281403911993, 0.00025319573022372166], [0.1387863174740437, 0.3477491963280923]]]\n"
     ]
    }
   ],
   "source": [
    "VijminVkjW = [[[0,0],[0,0],[0,0],[0,0],[0,0]],[[0,0],[0,0],[0,0],[0,0],[0,0]],[[0,0],[0,0],[0,0],[0,0],[0,0]]]\n",
    "VijminVkjWuik = [[[0,0],[0,0],[0,0],[0,0],[0,0]],[[0,0],[0,0],[0,0],[0,0],[0,0]],[[0,0],[0,0],[0,0],[0,0],[0,0]]]\n",
    "\n",
    "for i in range(len(VijminVkjW)):\n",
    "    for j in range(len(VijminVkjW[i])):\n",
    "        VijminVkjW[i][j][0] = (data[j][0]-pusatCluster[i][0])**w\n",
    "        VijminVkjW[i][j][1] = (data[j][1]-pusatCluster[i][1])**w\n",
    "        \n",
    "        VijminVkjWuik[i][j][0] = VijminVkjW[i][j][0]*clusterW[j][i]\n",
    "        VijminVkjWuik[i][j][1] = VijminVkjW[i][j][1]*clusterW[j][i]\n",
    "        \n",
    "print(VijminVkjW)\n",
    "print(VijminVkjWuik)"
   ]
  },
  {
   "cell_type": "code",
   "execution_count": 75,
   "metadata": {},
   "outputs": [
    {
     "name": "stdout",
     "output_type": "stream",
     "text": [
      "64.63822631073043\n"
     ]
    }
   ],
   "source": [
    "X1 = 0\n",
    "X2 = 0\n",
    "for i in range(len(VijminVkjW)):\n",
    "    for j in range(len(VijminVkjW[i])):\n",
    "        X1 = X1 + VijminVkjWuik[i][j][0]\n",
    "        X2 = X2 + VijminVkjWuik[i][j][1]\n",
    "P = X1 + X2\n",
    "print(P)"
   ]
  },
  {
   "cell_type": "code",
   "execution_count": 81,
   "metadata": {},
   "outputs": [
    {
     "name": "stdout",
     "output_type": "stream",
     "text": [
      "[[0.026378405772624694, 0.038420569193961716, 0.02792602877525688], [0.012722755998066488, 0.04498160844717999, 0.04346876012156453], [0.018298090343775008, 0.15430183649620158, 0.08321346597597375], [0.02251420443035861, 0.007547816758312689, 0.008791179079692228], [0.06682560269071476, 0.1520528442957397, 0.6445572647910234]]\n"
     ]
    }
   ],
   "source": [
    "summ = [[0,0,0],[0,0,0],[0,0,0],[0,0,0],[0,0,0]]\n",
    "\n",
    "for i in range(len(summ[0])):\n",
    "    for j in range(len(summ)):\n",
    "        summ[j][i] = (VijminVkjW[i][j][0]+VijminVkjW[i][j][1])**-1\n",
    "\n",
    "print(summ)"
   ]
  },
  {
   "cell_type": "code",
   "execution_count": 88,
   "metadata": {},
   "outputs": [
    {
     "name": "stdout",
     "output_type": "stream",
     "text": [
      "[0.09272500374184328, 0.101173124566811, 0.25581339281595034, 0.03885320026836353, 0.8634357117774778]\n"
     ]
    }
   ],
   "source": [
    "total = [0,0,0,0,0]\n",
    "for i in range(len(total)):\n",
    "    total[i] = total[i] + summ[i][0]\n",
    "    total[i] = total[i] + summ[i][1]\n",
    "    total[i] = total[i] + summ[i][2]\n",
    "\n",
    "# print(summ[0][0])\n",
    "# print(summ[0][1])\n",
    "# print(summ[0][2])\n",
    "print(total)"
   ]
  },
  {
   "cell_type": "code",
   "execution_count": 90,
   "metadata": {},
   "outputs": [
    {
     "name": "stdout",
     "output_type": "stream",
     "text": [
      "[[0.2844799644987355, 0.41434961060696046, 0.3011704248943041], [0.12575232852144294, 0.44460036832682565, 0.4296473031517314], [0.07152905538819818, 0.6031812283073735, 0.32528971630442827], [0.5794684678443579, 0.19426499506293046, 0.22626653709271158], [0.07739499510988128, 0.17610210259050108, 0.7465029022996177]]\n"
     ]
    }
   ],
   "source": [
    "update = [[0,0,0],[0,0,0],[0,0,0],[0,0,0],[0,0,0]]\n",
    "\n",
    "for i in range(len(summ[0])):\n",
    "    for j in range(len(summ)):\n",
    "        update[j][i] = summ[j][i]/total[j]\n",
    "print(update)"
   ]
  },
  {
   "cell_type": "code",
   "execution_count": null,
   "metadata": {},
   "outputs": [],
   "source": []
  }
 ],
 "metadata": {
  "kernelspec": {
   "display_name": "Python 3",
   "language": "python",
   "name": "python3"
  },
  "language_info": {
   "codemirror_mode": {
    "name": "ipython",
    "version": 3
   },
   "file_extension": ".py",
   "mimetype": "text/x-python",
   "name": "python",
   "nbconvert_exporter": "python",
   "pygments_lexer": "ipython3",
   "version": "3.6.7"
  }
 },
 "nbformat": 4,
 "nbformat_minor": 2
}
