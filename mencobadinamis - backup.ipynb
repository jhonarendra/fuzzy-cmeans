{
 "cells": [
  {
   "cell_type": "code",
   "execution_count": 1,
   "metadata": {},
   "outputs": [],
   "source": [
    "import math, json, numpy\n",
    "from pprint import pprint\n",
    "\n",
    "with open('data.json') as f:\n",
    "    data = json.load(f)\n",
    "with open('cluster.json') as f:\n",
    "    cluster = json.load(f)\n",
    "\n",
    "w         = 2.0\n",
    "maxIter   = 20\n",
    "errorRate = 0.001\n",
    "\n",
    "P = [0]\n",
    "for i in range(maxIter+1):\n",
    "    P.append(0)"
   ]
  },
  {
   "cell_type": "code",
   "execution_count": 17,
   "metadata": {},
   "outputs": [
    {
     "name": "stdout",
     "output_type": "stream",
     "text": [
      "[[0.0007742688729664475, 0.0018450175393670272, 0.9973807135876664], [0.016929270413378394, 0.9372756360423501, 0.04579509354427143], [0.01383728996684191, 0.9146697537837251, 0.07149295624943312], [0.9998980416904021, 4.291774904687653e-05, 5.904056055105442e-05], [0.08903980822899173, 0.7128667595484848, 0.19809343222252343]]\n"
     ]
    }
   ],
   "source": [
    "clusterW = [[0,0,0],[0,0,0],[0,0,0],[0,0,0],[0,0,0]]\n",
    "clusterWX1 = [[0,0,0],[0,0,0],[0,0,0],[0,0,0],[0,0,0]]\n",
    "clusterWX2 = [[0,0,0],[0,0,0],[0,0,0],[0,0,0],[0,0,0]]\n",
    "for i in range(len(cluster)):\n",
    "    for j in range(len(cluster[i])):\n",
    "        clusterW[i][j] = cluster[i][j]**w\n",
    "        clusterWX1[i][j] = clusterW[i][j]*data[i][0]\n",
    "        clusterWX2[i][j] = clusterW[i][j]*data[i][1]\n",
    "\n",
    "sumClusterW = [0,0,0]\n",
    "sumClusterWX1 = [0,0,0]\n",
    "sumClusterWX2 = [0,0,0]\n",
    "\n",
    "for i in range(len(cluster)):\n",
    "    sumClusterW[0] = sumClusterW[0] + clusterW[i][0]\n",
    "    sumClusterW[1] = sumClusterW[1] + clusterW[i][1]\n",
    "    sumClusterW[2] = sumClusterW[2] + clusterW[i][2]\n",
    "    \n",
    "    sumClusterWX1[0] = sumClusterWX1[0] + clusterWX1[i][0]\n",
    "    sumClusterWX1[1] = sumClusterWX1[1] + clusterWX1[i][1]\n",
    "    sumClusterWX1[2] = sumClusterWX1[2] + clusterWX1[i][2]\n",
    "    \n",
    "    sumClusterWX2[0] = sumClusterWX2[0] + clusterWX2[i][0]\n",
    "    sumClusterWX2[1] = sumClusterWX2[1] + clusterWX2[i][1]\n",
    "    sumClusterWX2[2] = sumClusterWX2[2] + clusterWX2[i][2]\n",
    "    \n",
    "pusatCluster = [[0,0],[0,0],[0,0]]\n",
    "\n",
    "for i in range(len(sumClusterW)):\n",
    "    pusatCluster[i][0] = sumClusterWX1[i]/sumClusterW[i]\n",
    "    pusatCluster[i][1] = sumClusterWX2[i]/sumClusterW[i]\n",
    "\n",
    "VijminVkjW = [[[0,0],[0,0],[0,0],[0,0],[0,0]],[[0,0],[0,0],[0,0],[0,0],[0,0]],[[0,0],[0,0],[0,0],[0,0],[0,0]]]\n",
    "VijminVkjWuik = [[[0,0],[0,0],[0,0],[0,0],[0,0]],[[0,0],[0,0],[0,0],[0,0],[0,0]],[[0,0],[0,0],[0,0],[0,0],[0,0]]]\n",
    "\n",
    "for i in range(len(VijminVkjW)):\n",
    "    for j in range(len(VijminVkjW[i])):\n",
    "        VijminVkjW[i][j][0] = (data[j][0]-pusatCluster[i][0])**w\n",
    "        VijminVkjW[i][j][1] = (data[j][1]-pusatCluster[i][1])**w\n",
    "        \n",
    "        VijminVkjWuik[i][j][0] = VijminVkjW[i][j][0]*clusterW[j][i]\n",
    "        VijminVkjWuik[i][j][1] = VijminVkjW[i][j][1]*clusterW[j][i]\n",
    "\n",
    "X1 = 0\n",
    "X2 = 0\n",
    "for i in range(len(VijminVkjW)):\n",
    "    for j in range(len(VijminVkjW[i])):\n",
    "        X1 = X1 + VijminVkjWuik[i][j][0]\n",
    "        X2 = X2 + VijminVkjWuik[i][j][1]\n",
    "P = X1 + X2\n",
    "\n",
    "summ = [[0,0,0],[0,0,0],[0,0,0],[0,0,0],[0,0,0]]\n",
    "\n",
    "for i in range(len(summ[0])):\n",
    "    for j in range(len(summ)):\n",
    "        summ[j][i] = (VijminVkjW[i][j][0]+VijminVkjW[i][j][1])**-1\n",
    "        \n",
    "total = [0,0,0,0,0]\n",
    "for i in range(len(total)):\n",
    "    total[i] = total[i] + summ[i][0]\n",
    "    total[i] = total[i] + summ[i][1]\n",
    "    total[i] = total[i] + summ[i][2]\n",
    "    \n",
    "for i in range(len(summ[0])):\n",
    "    for j in range(len(summ)):\n",
    "        cluster[j][i] = summ[j][i]/total[j]\n",
    "print(cluster)"
   ]
  },
  {
   "cell_type": "code",
   "execution_count": null,
   "metadata": {},
   "outputs": [],
   "source": []
  },
  {
   "cell_type": "code",
   "execution_count": null,
   "metadata": {},
   "outputs": [],
   "source": []
  }
 ],
 "metadata": {
  "kernelspec": {
   "display_name": "Python 3",
   "language": "python",
   "name": "python3"
  },
  "language_info": {
   "codemirror_mode": {
    "name": "ipython",
    "version": 3
   },
   "file_extension": ".py",
   "mimetype": "text/x-python",
   "name": "python",
   "nbconvert_exporter": "python",
   "pygments_lexer": "ipython3",
   "version": "3.6.7"
  }
 },
 "nbformat": 4,
 "nbformat_minor": 2
}
