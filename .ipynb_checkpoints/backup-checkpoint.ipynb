{
 "cells": [
  {
   "cell_type": "code",
   "execution_count": 1,
   "metadata": {},
   "outputs": [],
   "source": [
    "import math"
   ]
  },
  {
   "cell_type": "code",
   "execution_count": 2,
   "metadata": {},
   "outputs": [],
   "source": [
    "data = [[10, 15],\n",
    "       [5, 7],\n",
    "       [6, 10],\n",
    "       [20, 9],\n",
    "       [10, 8]]\n",
    "\n",
    "cluster = [[0.27, 0.38, 0.33],\n",
    "          [0.18, 0.36, 0.45],\n",
    "          [0.50, 0.16, 0.33],\n",
    "          [0.60, 0.10, 0.30],\n",
    "          [0.06, 0.37, 0.56]]\n",
    "\n",
    "w = 2.0\n",
    "\n",
    "maxIter = 10\n",
    "\n",
    "errorRate = 0.0001"
   ]
  },
  {
   "cell_type": "code",
   "execution_count": 43,
   "metadata": {},
   "outputs": [
    {
     "name": "stdout",
     "output_type": "stream",
     "text": [
      "[[0.016088279178624508, 0.16421897002234864, 0.21895008198976518], [0.0008761888415831154, 0.49675194467762745, 0.07053974558997846], [2.099284812528716e-07, 0.9861784386254849, 4.1946957239861203e-05], [0.9988725428092434, 4.2179083992946185e-08, 1.285309324517821e-07], [0.00014760560777141645, 0.004607171702493553, 0.8463531642592627]]\n",
      "[[0.1608827917862451, 1.6421897002234864, 2.1895008198976518], [0.0043809442079155774, 2.4837597233881374, 0.35269872794989227], [1.2595708875172296e-06, 5.917070631752909, 0.00025168174343916723], [19.97745085618487, 8.435816798589237e-07, 2.5706186490356417e-06], [0.0014760560777141644, 0.04607171702493553, 8.463531642592626]]\n",
      "[[0.2413241876793676, 2.4632845503352296, 3.2842512298464777], [0.006133321891081808, 3.4772636127433922, 0.4937782191298492], [2.099284812528716e-06, 9.861784386254849, 0.000419469572398612], [8.989852885283192, 3.7961175593651563e-07, 1.1567783920660388e-06], [0.0011808448621713316, 0.036857373619948425, 6.770825314074101]]\n"
     ]
    }
   ],
   "source": [
    "clusterW = [[0,0,0],[0,0,0],[0,0,0],[0,0,0],[0,0,0]]\n",
    "clusterWX1 = [[0,0,0],[0,0,0],[0,0,0],[0,0,0],[0,0,0]]\n",
    "clusterWX2 = [[0,0,0],[0,0,0],[0,0,0],[0,0,0],[0,0,0]]\n",
    "for i in range(len(cluster)):\n",
    "    for j in range(len(cluster[i])):\n",
    "        clusterW[i][j] = cluster[i][j]**w\n",
    "        clusterWX1[i][j] = clusterW[i][j]*data[i][0]\n",
    "        clusterWX2[i][j] = clusterW[i][j]*data[i][1]\n",
    "\n",
    "pusatCluster = [[0,0],[0,0],[0,0],[0,0],[0,0]]\n",
    "\n",
    "print(clusterW)\n",
    "print(clusterWX1)\n",
    "print(clusterWX2)"
   ]
  },
  {
   "cell_type": "code",
   "execution_count": 44,
   "metadata": {},
   "outputs": [
    {
     "name": "stdout",
     "output_type": "stream",
     "text": [
      "[1.0159848263657036, 1.6517565672070387, 1.1358850673271785]\n",
      "[20.144191907827633, 10.089092615971147, 11.005985442802258]\n",
      "[9.238493339000625, 15.839190302565175, 10.549275389401219]\n"
     ]
    }
   ],
   "source": [
    "sumClusterW = [0,0,0]\n",
    "sumClusterWX1 = [0,0,0]\n",
    "sumClusterWX2 = [0,0,0]\n",
    "\n",
    "for i in range(len(cluster)):\n",
    "    sumClusterW[0] = sumClusterW[0] + clusterW[i][0]\n",
    "    sumClusterW[1] = sumClusterW[1] + clusterW[i][1]\n",
    "    sumClusterW[2] = sumClusterW[2] + clusterW[i][2]\n",
    "    \n",
    "    sumClusterWX1[0] = sumClusterWX1[0] + clusterWX1[i][0]\n",
    "    sumClusterWX1[1] = sumClusterWX1[1] + clusterWX1[i][1]\n",
    "    sumClusterWX1[2] = sumClusterWX1[2] + clusterWX1[i][2]\n",
    "    \n",
    "    sumClusterWX2[0] = sumClusterWX2[0] + clusterWX2[i][0]\n",
    "    sumClusterWX2[1] = sumClusterWX2[1] + clusterWX2[i][1]\n",
    "    sumClusterWX2[2] = sumClusterWX2[2] + clusterWX2[i][2]\n",
    "    \n",
    "print(sumClusterW)\n",
    "print(sumClusterWX1)\n",
    "print(sumClusterWX2)"
   ]
  },
  {
   "cell_type": "code",
   "execution_count": 45,
   "metadata": {},
   "outputs": [
    {
     "name": "stdout",
     "output_type": "stream",
     "text": [
      "[[19.827256652922426, 9.093141058068548], [6.1080989876315925, 9.58930063728926], [9.689347768872562, 9.287273592058432]]\n"
     ]
    }
   ],
   "source": [
    "pusatCluster = [[0,0],[0,0],[0,0]]\n",
    "\n",
    "for i in range(len(sumClusterW)):\n",
    "    pusatCluster[i][0] = sumClusterWX1[i]/sumClusterW[i]\n",
    "    pusatCluster[i][1] = sumClusterWX2[i]/sumClusterW[i]\n",
    "print(pusatCluster)"
   ]
  },
  {
   "cell_type": "code",
   "execution_count": 46,
   "metadata": {},
   "outputs": [
    {
     "name": "stdout",
     "output_type": "stream",
     "text": [
      "[[[96.57497332240807, 34.890982559875546], [219.84753985163232, 4.381239488972322], [191.1930265457875, 0.8223931405610321], [0.029840263959563306, 0.008675256698128693], [96.57497332240807, 1.1949573728352254]], [[15.146893490074234, 29.275667593638417], [1.2278833663901603, 6.704477790266564], [0.011685391126975196, 0.16867396653100855], [192.98491373744238, 0.3472752411095271], [15.146893490074234, 2.525876515688046]], [[0.0965048087044553, 32.635243011992976], [21.989982497430073, 5.2316204849278805], [13.61128695968495, 0.5079789325772911], [106.30954943125322, 0.08252611669415412], [0.0965048087044553, 1.6570733008110172]]]\n",
      "[[[1.553725132479115, 0.5613358682397965], [0.19262796126749954, 0.00383879315254086], [4.013686168889713e-05, 1.7264374299075682e-07], [0.029806620339388024, 0.008665475717582728], [0.014255007632762374, 0.00017638240927827852]], [[2.4874072479782083, 4.807619978943951], [0.6099534500916238, 3.3304623803628783], [0.011523880776328495, 0.16634262895031732], [8.139926885903056e-06, 1.4647751563429382e-08], [0.06978433906815383, 0.011637146807070979]], [[0.021129735778247092, 7.145489133231774], [1.5511677708967964, 0.3690371780301324], [0.000570952072077385, 2.1308170563569968e-05], [1.3664065516927797e-05, 1.060715873032421e-08], [0.08167715021325057, 1.4024692315509455]]]\n"
     ]
    }
   ],
   "source": [
    "VijminVkjW = [[[0,0],[0,0],[0,0],[0,0],[0,0]],[[0,0],[0,0],[0,0],[0,0],[0,0]],[[0,0],[0,0],[0,0],[0,0],[0,0]]]\n",
    "VijminVkjWuik = [[[0,0],[0,0],[0,0],[0,0],[0,0]],[[0,0],[0,0],[0,0],[0,0],[0,0]],[[0,0],[0,0],[0,0],[0,0],[0,0]]]\n",
    "\n",
    "for i in range(len(VijminVkjW)):\n",
    "    for j in range(len(VijminVkjW[i])):\n",
    "        VijminVkjW[i][j][0] = (data[j][0]-pusatCluster[i][0])**w\n",
    "        VijminVkjW[i][j][1] = (data[j][1]-pusatCluster[i][1])**w\n",
    "        \n",
    "        VijminVkjWuik[i][j][0] = VijminVkjW[i][j][0]*clusterW[j][i]\n",
    "        VijminVkjWuik[i][j][1] = VijminVkjW[i][j][1]*clusterW[j][i]\n",
    "        \n",
    "print(VijminVkjW)\n",
    "print(VijminVkjWuik)"
   ]
  },
  {
   "cell_type": "code",
   "execution_count": 47,
   "metadata": {},
   "outputs": [
    {
     "name": "stdout",
     "output_type": "stream",
     "text": [
      "24.430786892913034\n"
     ]
    }
   ],
   "source": [
    "X1 = 0\n",
    "X2 = 0\n",
    "for i in range(len(VijminVkjW)):\n",
    "    for j in range(len(VijminVkjW[i])):\n",
    "        X1 = X1 + VijminVkjWuik[i][j][0]\n",
    "        X2 = X2 + VijminVkjWuik[i][j][1]\n",
    "P = X1 + X2\n",
    "print(P)"
   ]
  },
  {
   "cell_type": "code",
   "execution_count": 48,
   "metadata": {},
   "outputs": [
    {
     "name": "stdout",
     "output_type": "stream",
     "text": [
      "[[0.007606531997496092, 0.02251108390881691, 0.030551377991726584], [0.004459730829114469, 0.1260658686929319, 0.036735529522199335], [0.005207915081161036, 5.544486368687919, 0.07082521199264534], [25.963559181441013, 0.0051724444091973696, 0.009399196273310161], [0.010228093575284206, 0.05658422531804272, 0.570262593136674]]\n"
     ]
    }
   ],
   "source": [
    "summ = [[0,0,0],[0,0,0],[0,0,0],[0,0,0],[0,0,0]]\n",
    "\n",
    "for i in range(len(summ[0])):\n",
    "    for j in range(len(summ)):\n",
    "        summ[j][i] = (VijminVkjW[i][j][0]+VijminVkjW[i][j][1])**-1\n",
    "\n",
    "print(summ)"
   ]
  },
  {
   "cell_type": "code",
   "execution_count": 49,
   "metadata": {},
   "outputs": [
    {
     "name": "stdout",
     "output_type": "stream",
     "text": [
      "[0.060668993898039585, 0.1672611290442457, 5.620519495761726, 25.97813082212352, 0.637074912030001]\n"
     ]
    }
   ],
   "source": [
    "total = [0,0,0,0,0]\n",
    "for i in range(len(total)):\n",
    "    total[i] = total[i] + summ[i][0]\n",
    "    total[i] = total[i] + summ[i][1]\n",
    "    total[i] = total[i] + summ[i][2]\n",
    "\n",
    "# print(summ[0][0])\n",
    "# print(summ[0][1])\n",
    "# print(summ[0][2])\n",
    "print(total)"
   ]
  },
  {
   "cell_type": "code",
   "execution_count": 50,
   "metadata": {},
   "outputs": [
    {
     "name": "stdout",
     "output_type": "stream",
     "text": [
      "[[0.12537758595897672, 0.3710475889323148, 0.5035748251087084], [0.026663283062825276, 0.7537069097481915, 0.21962980718898328], [0.0009265896302091251, 0.9864722242968571, 0.01260118607293376], [0.9994390804795663, 0.00019910764344878914, 0.00036181187698483715], [0.016054773751320705, 0.08881879391191293, 0.8951264323367664]]\n"
     ]
    }
   ],
   "source": [
    "# update = [[0,0,0],[0,0,0],[0,0,0],[0,0,0],[0,0,0]]\n",
    "\n",
    "for i in range(len(summ[0])):\n",
    "    for j in range(len(summ)):\n",
    "        cluster[j][i] = summ[j][i]/total[j]\n",
    "print(cluster)"
   ]
  },
  {
   "cell_type": "code",
   "execution_count": null,
   "metadata": {},
   "outputs": [],
   "source": []
  },
  {
   "cell_type": "code",
   "execution_count": null,
   "metadata": {},
   "outputs": [],
   "source": []
  },
  {
   "cell_type": "code",
   "execution_count": null,
   "metadata": {},
   "outputs": [],
   "source": []
  }
 ],
 "metadata": {
  "kernelspec": {
   "display_name": "Python 3",
   "language": "python",
   "name": "python3"
  },
  "language_info": {
   "codemirror_mode": {
    "name": "ipython",
    "version": 3
   },
   "file_extension": ".py",
   "mimetype": "text/x-python",
   "name": "python",
   "nbconvert_exporter": "python",
   "pygments_lexer": "ipython3",
   "version": "3.6.7"
  }
 },
 "nbformat": 4,
 "nbformat_minor": 2
}
