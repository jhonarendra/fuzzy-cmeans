{
 "cells": [
  {
   "cell_type": "code",
   "execution_count": 52,
   "metadata": {},
   "outputs": [
    {
     "name": "stdout",
     "output_type": "stream",
     "text": [
      "data:[[10, 15], [5, 7], [6, 10], [20, 9], [10, 8]]\n",
      "cluster:[[0.27, 0.38, 0.33], [0.18, 0.36, 0.45], [0.5, 0.16, 0.33], [0.6, 0.1, 0.3], [0.06, 0.37, 0.56]]\n",
      "clusterW:[[0, 0, 0], [0, 0, 0], [0, 0, 0], [0, 0, 0], [0, 0, 0]]\n",
      "clusterWX:[[[0, 0, 0], [0, 0, 0], [0, 0, 0], [0, 0, 0], [0, 0, 0]], [[0, 0, 0], [0, 0, 0], [0, 0, 0], [0, 0, 0], [0, 0, 0]]]\n",
      "sumClusterW:[0, 0, 0]\n",
      "sumClusterWX:[[0, 0, 0], [0, 0, 0]]\n",
      "pusatCluster:[[0, 0], [0, 0], [0, 0]]\n",
      "uik:[[[0, 0], [0, 0], [0, 0], [0, 0], [0, 0]], [[0, 0], [0, 0], [0, 0], [0, 0], [0, 0]], [[0, 0], [0, 0], [0, 0], [0, 0], [0, 0]]]\n",
      "VijminVkjW:[[[0, 0], [0, 0], [0, 0], [0, 0], [0, 0]], [[0, 0], [0, 0], [0, 0], [0, 0], [0, 0]], [[0, 0], [0, 0], [0, 0], [0, 0], [0, 0]]]\n"
     ]
    }
   ],
   "source": [
    "import math, json, numpy\n",
    "from pprint import pprint\n",
    "\n",
    "with open('data.json') as f:\n",
    "    data = json.load(f)\n",
    "print('data:'+str(data))\n",
    "with open('cluster.json') as f:\n",
    "    cluster = json.load(f)\n",
    "print('cluster:'+str(cluster))\n",
    "\n",
    "w         = 2.0\n",
    "maxIter   = 20\n",
    "errorRate = 0.001\n",
    "\n",
    "P = [0]\n",
    "for i in range(maxIter+1):\n",
    "    P.append(0)\n",
    "\n",
    "clusterW = []\n",
    "for i in range(len(cluster)):\n",
    "    clus = []\n",
    "    for j in range(len(cluster[0])):\n",
    "        clus.append(0)\n",
    "    clusterW.append(clus)\n",
    "print('clusterW:'+str(clusterW))\n",
    "\n",
    "clusterWX = []\n",
    "for h in range(len(data[0])):\n",
    "    cluss = []\n",
    "    for i in range(len(cluster)):\n",
    "        clus = []\n",
    "        for j in range(len(cluster[0])):\n",
    "            clus.append(0)\n",
    "        cluss.append(clus)\n",
    "    clusterWX.append(cluss)\n",
    "print('clusterWX:'+str(clusterWX))\n",
    "\n",
    "\n",
    "sumClusterW = []\n",
    "sumClusterWX = []\n",
    "for i in range(len(cluster[0])):\n",
    "    sumClusterW.append(0)\n",
    "    \n",
    "for h in range(len(data[0])):\n",
    "    clus = []\n",
    "    for i in range(len(cluster[0])):\n",
    "        clus.append(0)\n",
    "    sumClusterWX.append(clus)\n",
    "print('sumClusterW:'+str(sumClusterW))\n",
    "print('sumClusterWX:'+str(sumClusterWX))\n",
    "\n",
    "pusatCluster = []\n",
    "for i in range(len(cluster[0])):\n",
    "    clus = []\n",
    "    for j in range(len(data[0])):\n",
    "        clus.append(0)\n",
    "    pusatCluster.append(clus)\n",
    "print('pusatCluster:'+str(pusatCluster))\n",
    "\n",
    "uik = []\n",
    "VijminVkjW = []\n",
    "for h in range(len(cluster[0])):\n",
    "    clus = []\n",
    "    for i in range(len(data)):\n",
    "        cluss = []\n",
    "        for j in range(len(data[0])):\n",
    "            cluss.append(0)\n",
    "        clus.append(cluss)\n",
    "    uik.append(clus)\n",
    "    VijminVkjW.append(clus)\n",
    "    \n",
    "print('VijminVkjWuik:'+str(VijminVkjWuik))\n",
    "print('VijminVkjW:'+str(VijminVkjW))"
   ]
  },
  {
   "cell_type": "code",
   "execution_count": 53,
   "metadata": {},
   "outputs": [
    {
     "name": "stdout",
     "output_type": "stream",
     "text": [
      "[[[0.8384129228204288, 1.92521125630472], [2.281406655362733, 0.26521138910215464], [13.657800288810032, 0.00482763044984515], [15.723006515204876, 0.2668989293139055], [0.041403107299774256, 0.01246846070780034]], [[0.3063975808057947, 3.4520058741512005], [1.627158788266083, 1.2540187523766404], [0.1655952238500518, 0.00031336532367586857], [1.3125512558169867, 0.012335174287007686], [0.2904835790326405, 0.6098613019465818]], [[0.04819461088304643, 3.851393149210074], [3.804985537731472, 0.8535324285893862], [1.2110282557428604, 0.0976541638963211], [10.237281403911993, 0.00025319573022372166], [0.1387863174740437, 0.3477491963280923]]]\n",
      "[[[0.8384129228204288, 1.92521125630472], [2.281406655362733, 0.26521138910215464], [13.657800288810032, 0.00482763044984515], [15.723006515204876, 0.2668989293139055], [0.041403107299774256, 0.01246846070780034]], [[0.3063975808057947, 3.4520058741512005], [1.627158788266083, 1.2540187523766404], [0.1655952238500518, 0.00031336532367586857], [1.3125512558169867, 0.012335174287007686], [0.2904835790326405, 0.6098613019465818]], [[0.04819461088304643, 3.851393149210074], [3.804985537731472, 0.8535324285893862], [1.2110282557428604, 0.0976541638963211], [10.237281403911993, 0.00025319573022372166], [0.1387863174740437, 0.3477491963280923]]]\n"
     ]
    }
   ],
   "source": [
    "for i in range(len(cluster)):\n",
    "    for j in range(len(cluster[i])):\n",
    "        clusterW[i][j] = cluster[i][j]**w\n",
    "        for k in range(len(data[0])):\n",
    "            clusterWX[k][i][j] = clusterW[i][j]*data[i][k]\n",
    "\n",
    "for i in range(len(cluster)):\n",
    "    for j in range(len(cluster[0])):\n",
    "        sumClusterW[j] = sumClusterW[j] + clusterW[i][j]\n",
    "        for k in range(len(data[0])):\n",
    "            sumClusterWX[k][j] = sumClusterWX[k][j] + clusterWX[k][i][j]\n",
    "              \n",
    "for i in range(len(cluster[0])):\n",
    "    for j in range(len(data[0])):\n",
    "        pusatCluster[i][j] = sumClusterWX[j][i]/sumClusterW[i]\n",
    "\n",
    "\n",
    "for i in range(len(cluster[0])):\n",
    "    for j in range(len(data)):\n",
    "        for k in range(len(data[0])):\n",
    "            VijminVkjW[i][j][k] = (data[j][k]-pusatCluster[i][k])**w\n",
    "            VijminVkjWuik[i][j][k] = ((data[j][k]-pusatCluster[i][k])**w)*clusterW[j][i]\n",
    "\n",
    "        \n",
    "print(VijminVkjW)\n",
    "print(VijminVkjWuik)\n",
    "# X1 = 0\n",
    "# X2 = 0\n",
    "# for i in range(len(VijminVkjW)):\n",
    "#     for j in range(len(VijminVkjW[i])):\n",
    "#         X1 = X1 + VijminVkjWuik[i][j][0]\n",
    "#         X2 = X2 + VijminVkjWuik[i][j][1]\n",
    "# P = X1 + X2\n",
    "\n",
    "# summ = [[0,0,0],[0,0,0],[0,0,0],[0,0,0],[0,0,0]]\n",
    "\n",
    "# for i in range(len(summ[0])):\n",
    "#     for j in range(len(summ)):\n",
    "#         summ[j][i] = (VijminVkjW[i][j][0]+VijminVkjW[i][j][1])**-1\n",
    "        \n",
    "# total = [0,0,0,0,0]\n",
    "# for i in range(len(total)):\n",
    "#     total[i] = total[i] + summ[i][0]\n",
    "#     total[i] = total[i] + summ[i][1]\n",
    "#     total[i] = total[i] + summ[i][2]\n",
    "    \n",
    "# for i in range(len(summ[0])):\n",
    "#     for j in range(len(summ)):\n",
    "#         cluster[j][i] = summ[j][i]/total[j]\n",
    "# print(cluster)"
   ]
  },
  {
   "cell_type": "code",
   "execution_count": 50,
   "metadata": {},
   "outputs": [
    {
     "data": {
      "text/plain": [
       "1.1088941209441718"
      ]
     },
     "execution_count": 50,
     "metadata": {},
     "output_type": "execute_result"
    }
   ],
   "source": [
    "(data[j][k]-pusatCluster[i][k])**w"
   ]
  },
  {
   "cell_type": "code",
   "execution_count": 51,
   "metadata": {},
   "outputs": [
    {
     "data": {
      "text/plain": [
       "0.10905414796848976"
      ]
     },
     "execution_count": 51,
     "metadata": {},
     "output_type": "execute_result"
    }
   ],
   "source": [
    "VijminVkjW[i][j][k]*clusterW[j][i]"
   ]
  },
  {
   "cell_type": "code",
   "execution_count": null,
   "metadata": {},
   "outputs": [],
   "source": []
  }
 ],
 "metadata": {
  "kernelspec": {
   "display_name": "Python 3",
   "language": "python",
   "name": "python3"
  },
  "language_info": {
   "codemirror_mode": {
    "name": "ipython",
    "version": 3
   },
   "file_extension": ".py",
   "mimetype": "text/x-python",
   "name": "python",
   "nbconvert_exporter": "python",
   "pygments_lexer": "ipython3",
   "version": "3.6.7"
  }
 },
 "nbformat": 4,
 "nbformat_minor": 2
}
